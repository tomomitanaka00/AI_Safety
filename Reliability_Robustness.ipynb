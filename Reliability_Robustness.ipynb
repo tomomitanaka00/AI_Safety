{
 "cells": [
  {
   "cell_type": "code",
   "execution_count": 1,
   "id": "711cd489-f33a-49c3-b04a-7b32a20e56a0",
   "metadata": {},
   "outputs": [],
   "source": [
    "import pandas as pd\n",
    "import numpy as np\n",
    "from sklearn.model_selection import train_test_split\n",
    "from sklearn.ensemble import RandomForestClassifier\n",
    "from sklearn.metrics import accuracy_score, roc_auc_score\n",
    "from sklearn.preprocessing import StandardScaler, LabelEncoder\n",
    "from sklearn.impute import SimpleImputer\n",
    "\n",
    "# Load the Adult dataset\n",
    "url = \"https://archive.ics.uci.edu/ml/machine-learning-databases/adult/adult.data\"\n",
    "column_names = ['age', 'workclass', 'fnlwgt', 'education', 'education-num', 'marital-status', 'occupation', \n",
    "                'relationship', 'race', 'sex', 'capital-gain', 'capital-loss', 'hours-per-week', 'native-country', 'income']\n",
    "df = pd.read_csv(url, names=column_names, skipinitialspace=True, na_values='?')\n",
    "\n",
    "# Preprocess the data\n",
    "df = df.dropna()\n",
    "df['income'] = df['income'].map({'>50K': 1, '<=50K': 0})\n",
    "\n",
    "# Encode categorical variables\n",
    "le = LabelEncoder()\n",
    "for column in df.select_dtypes(include=['object']).columns:\n",
    "    df[column] = le.fit_transform(df[column])\n",
    "\n",
    "# Split the data\n",
    "X = df.drop('income', axis=1)\n",
    "y = df['income']\n",
    "X_train, X_test, y_train, y_test = train_test_split(X, y, test_size=0.2, random_state=42)\n",
    "\n",
    "# Standardize the data\n",
    "scaler = StandardScaler()\n",
    "X_train = scaler.fit_transform(X_train)\n",
    "X_test = scaler.transform(X_test)\n"
   ]
  },
  {
   "cell_type": "code",
   "execution_count": 2,
   "id": "3d2b3c9e-5287-4476-9009-b32656ffb5d2",
   "metadata": {},
   "outputs": [
    {
     "name": "stdout",
     "output_type": "stream",
     "text": [
      "Baseline Model Accuracy: 0.8531\n",
      "Baseline Model ROC AUC: 0.9072\n"
     ]
    }
   ],
   "source": [
    "# Train a Random Forest model\n",
    "model = RandomForestClassifier(n_estimators=100, random_state=42)\n",
    "model.fit(X_train, y_train)\n",
    "\n",
    "# Evaluate the model\n",
    "y_pred = model.predict(X_test)\n",
    "accuracy = accuracy_score(y_test, y_pred)\n",
    "roc_auc = roc_auc_score(y_test, model.predict_proba(X_test)[:, 1])\n",
    "\n",
    "print(f\"Baseline Model Accuracy: {accuracy:.4f}\")\n",
    "print(f\"Baseline Model ROC AUC: {roc_auc:.4f}\")\n"
   ]
  },
  {
   "cell_type": "code",
   "execution_count": 3,
   "id": "e5d13b51-b696-4c57-856f-8dc210f2a8f9",
   "metadata": {},
   "outputs": [
    {
     "name": "stdout",
     "output_type": "stream",
     "text": [
      "Model Accuracy with Noise: 0.8457\n",
      "Model ROC AUC with Noise: 0.9020\n"
     ]
    }
   ],
   "source": [
    "# Add random noise to the test data\n",
    "np.random.seed(42)\n",
    "X_test_noisy = X_test + np.random.normal(0, 0.1, X_test.shape)\n",
    "\n",
    "# Evaluate the model on noisy data\n",
    "y_pred_noisy = model.predict(X_test_noisy)\n",
    "accuracy_noisy = accuracy_score(y_test, y_pred_noisy)\n",
    "roc_auc_noisy = roc_auc_score(y_test, model.predict_proba(X_test_noisy)[:, 1])\n",
    "\n",
    "print(f\"Model Accuracy with Noise: {accuracy_noisy:.4f}\")\n",
    "print(f\"Model ROC AUC with Noise: {roc_auc_noisy:.4f}\")\n"
   ]
  },
  {
   "cell_type": "code",
   "execution_count": 4,
   "id": "98972a48-4eff-45bd-aca7-6483520717b7",
   "metadata": {},
   "outputs": [
    {
     "name": "stdout",
     "output_type": "stream",
     "text": [
      "Enhanced Model Accuracy: 0.8601\n",
      "Enhanced Model ROC AUC: 0.9105\n"
     ]
    }
   ],
   "source": [
    "# Add noise to the training data\n",
    "X_train_noisy = X_train + np.random.normal(0, 0.1, X_train.shape)\n",
    "\n",
    "# Retrain the model with noisy data\n",
    "model_noisy = RandomForestClassifier(n_estimators=100, random_state=42)\n",
    "model_noisy.fit(X_train_noisy, y_train)\n",
    "\n",
    "# Evaluate the model on original and noisy test data\n",
    "y_pred_noisy = model_noisy.predict(X_test)\n",
    "accuracy_noisy = accuracy_score(y_test, y_pred_noisy)\n",
    "roc_auc_noisy = roc_auc_score(y_test, model_noisy.predict_proba(X_test)[:, 1])\n",
    "\n",
    "print(f\"Enhanced Model Accuracy: {accuracy_noisy:.4f}\")\n",
    "print(f\"Enhanced Model ROC AUC: {roc_auc_noisy:.4f}\")\n"
   ]
  },
  {
   "cell_type": "code",
   "execution_count": null,
   "id": "49a21287-68ba-4b59-928e-06d68daba426",
   "metadata": {},
   "outputs": [],
   "source": []
  }
 ],
 "metadata": {
  "kernelspec": {
   "display_name": "Python 3 (ipykernel)",
   "language": "python",
   "name": "python3"
  },
  "language_info": {
   "codemirror_mode": {
    "name": "ipython",
    "version": 3
   },
   "file_extension": ".py",
   "mimetype": "text/x-python",
   "name": "python",
   "nbconvert_exporter": "python",
   "pygments_lexer": "ipython3",
   "version": "3.9.19"
  }
 },
 "nbformat": 4,
 "nbformat_minor": 5
}
