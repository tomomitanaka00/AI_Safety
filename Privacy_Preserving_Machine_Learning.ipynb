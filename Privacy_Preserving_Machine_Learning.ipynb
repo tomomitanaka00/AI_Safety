{
 "cells": [
  {
   "cell_type": "code",
   "execution_count": 1,
   "id": "ed821bda-dde8-4adb-be38-5341b68daa11",
   "metadata": {},
   "outputs": [
    {
     "name": "stdout",
     "output_type": "stream",
     "text": [
      "Accuracy: 0.8596\n",
      "\n",
      "Classification Report:\n",
      "              precision    recall  f1-score   support\n",
      "\n",
      "           0       0.89      0.93      0.91      4503\n",
      "           1       0.76      0.64      0.70      1530\n",
      "\n",
      "    accuracy                           0.86      6033\n",
      "   macro avg       0.83      0.79      0.80      6033\n",
      "weighted avg       0.85      0.86      0.86      6033\n",
      "\n"
     ]
    }
   ],
   "source": [
    "import numpy as np\n",
    "import pandas as pd\n",
    "from sklearn.model_selection import train_test_split\n",
    "from sklearn.preprocessing import StandardScaler\n",
    "from sklearn.ensemble import RandomForestClassifier\n",
    "from sklearn.metrics import accuracy_score, classification_report\n",
    "from scipy.stats import laplace\n",
    "\n",
    "# Load the Adult dataset\n",
    "url = \"https://archive.ics.uci.edu/ml/machine-learning-databases/adult/adult.data\"\n",
    "column_names = [\n",
    "    \"age\", \"workclass\", \"fnlwgt\", \"education\", \"education-num\", \"marital-status\",\n",
    "    \"occupation\", \"relationship\", \"race\", \"sex\", \"capital-gain\", \"capital-loss\",\n",
    "    \"hours-per-week\", \"native-country\", \"income\"\n",
    "]\n",
    "data = pd.read_csv(url, names=column_names, skipinitialspace=True, na_values=\"?\")\n",
    "\n",
    "# Data preprocessing\n",
    "data = data.dropna()\n",
    "data['income'] = (data['income'] == '>50K').astype(int)\n",
    "\n",
    "# Identify numerical and categorical columns\n",
    "numerical_cols = data.select_dtypes(include=['int64', 'float64']).columns\n",
    "categorical_cols = data.select_dtypes(include=['object']).columns\n",
    "\n",
    "# One-hot encode categorical variables\n",
    "data_encoded = pd.get_dummies(data, columns=categorical_cols)\n",
    "\n",
    "# Split the data\n",
    "X = data_encoded.drop('income', axis=1)\n",
    "y = data_encoded['income']\n",
    "X_train, X_test, y_train, y_test = train_test_split(X, y, test_size=0.2, random_state=42)\n",
    "\n",
    "# Function to add Laplace noise (differential privacy)\n",
    "def add_laplace_noise(data, epsilon):\n",
    "    sensitivity = 1.0  # Assuming normalized data\n",
    "    noise_scale = sensitivity / epsilon\n",
    "    return data + np.random.laplace(0, noise_scale, data.shape)\n",
    "\n",
    "# Apply differential privacy to sensitive numerical attributes\n",
    "sensitive_attrs = ['age', 'fnlwgt', 'education-num', 'capital-gain', 'capital-loss', 'hours-per-week']\n",
    "epsilon = 1.0  # Privacy budget\n",
    "\n",
    "for attr in sensitive_attrs:\n",
    "    if attr in X_train.columns:\n",
    "        X_train[attr] = add_laplace_noise(X_train[attr], epsilon)\n",
    "        X_test[attr] = add_laplace_noise(X_test[attr], epsilon)\n",
    "\n",
    "# Scale the features\n",
    "scaler = StandardScaler()\n",
    "X_train_scaled = scaler.fit_transform(X_train)\n",
    "X_test_scaled = scaler.transform(X_test)\n",
    "\n",
    "# Train the model\n",
    "model = RandomForestClassifier(n_estimators=100, random_state=42)\n",
    "model.fit(X_train_scaled, y_train)\n",
    "\n",
    "# Make predictions\n",
    "y_pred = model.predict(X_test_scaled)\n",
    "\n",
    "# Evaluate the model\n",
    "accuracy = accuracy_score(y_test, y_pred)\n",
    "print(f\"Accuracy: {accuracy:.4f}\")\n",
    "print(\"\\nClassification Report:\")\n",
    "print(classification_report(y_test, y_pred))"
   ]
  },
  {
   "cell_type": "code",
   "execution_count": null,
   "id": "1b319ee4-b0e5-459f-bd52-d6755b5982fc",
   "metadata": {},
   "outputs": [],
   "source": []
  }
 ],
 "metadata": {
  "kernelspec": {
   "display_name": "Python 3 (ipykernel)",
   "language": "python",
   "name": "python3"
  },
  "language_info": {
   "codemirror_mode": {
    "name": "ipython",
    "version": 3
   },
   "file_extension": ".py",
   "mimetype": "text/x-python",
   "name": "python",
   "nbconvert_exporter": "python",
   "pygments_lexer": "ipython3",
   "version": "3.9.19"
  }
 },
 "nbformat": 4,
 "nbformat_minor": 5
}
